{
 "cells": [
  {
   "cell_type": "code",
   "execution_count": 1,
   "metadata": {},
   "outputs": [
    {
     "name": "stdout",
     "output_type": "stream",
     "text": [
      "asst_yei8drdmPyp7k2jYkeLwqIIv\n"
     ]
    }
   ],
   "source": [
    "from langchain.tools import DuckDuckGoSearchResults, WikipediaQueryRun\n",
    "from langchain.utilities import WikipediaAPIWrapper\n",
    "from langchain.document_loaders import WebBaseLoader\n",
    "from pathlib import Path\n",
    "from openai import OpenAI\n",
    "import json\n",
    "import os\n",
    "\n",
    "def search_by_duckduckgo(inputs):\n",
    "    query = inputs[\"query\"]\n",
    "    ddg = DuckDuckGoSearchResults()\n",
    "    return ddg.run(query)\n",
    "\n",
    "def search_by_wikipedia(inputs):\n",
    "    query = inputs[\"query\"]\n",
    "    wiki = WikipediaQueryRun(api_wrapper=WikipediaAPIWrapper())\n",
    "    return wiki.run(query)\n",
    "\n",
    "def scrape_web_page(inputs):\n",
    "    url = inputs[\"url\"]\n",
    "    loader = WebBaseLoader([url])\n",
    "    docs = loader.load()\n",
    "    text = \"\\n\\n\".join([doc.page_content for doc in docs])\n",
    "    return text\n",
    "\n",
    "def save_to_file(inputs):\n",
    "    output_dir = \"./output\"\n",
    "    Path(output_dir).mkdir(parents=True, exist_ok=True)\n",
    "    text = inputs[\"text\"]\n",
    "    with open(f\"{output_dir}/output.txt\", \"w\") as file:\n",
    "        file.write(text)\n",
    "    return f\"Text saved to {output_dir}/output.txt\"\n",
    "\n",
    "functions_map = {\n",
    "    \"search_by_duckduckgo\": search_by_duckduckgo,\n",
    "    \"search_by_wikipedia\": search_by_wikipedia,\n",
    "    \"scrape_web_page\": scrape_web_page,\n",
    "    \"save_to_file\": save_to_file,\n",
    "}\n",
    "\n",
    "functions = [\n",
    "    {\n",
    "        \"type\": \"function\",\n",
    "        \"function\": {\n",
    "            \"name\": \"search_by_duckduckgo\",\n",
    "            \"description\": \"Given a query, returns a URL of relevant websites from DuckDuckGo.\",\n",
    "            \"parameters\": {\n",
    "                \"type\": \"object\",\n",
    "                \"properties\": {\n",
    "                    \"query\": {\n",
    "                        \"type\": \"string\",\n",
    "                        \"description\": \"Query to search for\",\n",
    "                    }\n",
    "                },\n",
    "                \"required\": [\"query\"],\n",
    "            },\n",
    "        },\n",
    "    },\n",
    "    {\n",
    "        \"type\": \"function\",\n",
    "        \"function\": {\n",
    "            \"name\": \"search_by_wikipedia\",\n",
    "            \"description\": \"Given a query, returns the summary of the query from Wikipedia.\",\n",
    "            \"parameters\": {\n",
    "                \"type\": \"object\",\n",
    "                \"properties\": {\n",
    "                    \"query\": {\n",
    "                        \"type\": \"string\",\n",
    "                        \"description\": \"Query to search for\",\n",
    "                    }\n",
    "                },\n",
    "                \"required\": [\"query\"],\n",
    "            },\n",
    "        },\n",
    "    },\n",
    "    {\n",
    "        \"type\": \"function\",\n",
    "        \"function\": {\n",
    "            \"name\": \"scrape_web_page\",\n",
    "            \"description\": \"Given a URL, returns the content of the web page.\",\n",
    "            \"parameters\": {\n",
    "                \"type\": \"object\",\n",
    "                \"properties\": {\n",
    "                    \"url\": {\n",
    "                        \"type\": \"string\",\n",
    "                        \"description\": \"URL of the web page\",\n",
    "                    },\n",
    "                },\n",
    "                \"required\": [\"url\"],\n",
    "            },\n",
    "        },\n",
    "    },\n",
    "    {\n",
    "        \"type\": \"function\",\n",
    "        \"function\": {\n",
    "            \"name\": \"save_to_file\",\n",
    "            \"description\": \"Given a text content, saves it to a file.\",\n",
    "            \"parameters\": {\n",
    "                \"type\": \"object\",\n",
    "                \"properties\": {\n",
    "                    \"text\": {\n",
    "                        \"type\": \"string\",\n",
    "                        \"description\": \"Text content to save\",\n",
    "                    },\n",
    "                },\n",
    "                \"required\": [\"text\"],\n",
    "            },\n",
    "        },\n",
    "    },\n",
    "]\n",
    "\n",
    "instructions = \"\"\"\n",
    "    You are a research expert.\n",
    "    Your task is to use Wikipedia or DuckDuckGo to gather comprehensive and accurate information about the query provided. \n",
    "    When you find a relevant website through DuckDuckGo, you must scrape the content from that website. Use this scraped content to thoroughly research and formulate a detailed answer to the question. \n",
    "    Combine information from Wikipedia, DuckDuckGo searches, and any relevant websites you find. Ensure that the final answer is well-organized and detailed, and include citations with links (URLs) for all sources used.\n",
    "    Your research should be saved to a .txt file, and the content should match the detailed findings provided. Make sure to include all sources and relevant information.\n",
    "    The information from Wikipedia must be included.\n",
    "    Ensure that the final .txt file contains detailed information, all relevant sources, and citations.\n",
    "\"\"\"\n",
    "\n",
    "client = OpenAI()\n",
    "\n",
    "# assistant = client.beta.assistants.create(\n",
    "#     name=\"Research Expert\",\n",
    "#     instructions=instructions,\n",
    "#     model=\"gpt-4o-mini\",\n",
    "#     tools=functions,\n",
    "# )\n",
    "\n",
    "assistant_id = os.environ.get(\"OPENAI_ASSISTANT_ID\")\n",
    "print(assistant_id)"
   ]
  },
  {
   "cell_type": "code",
   "execution_count": 2,
   "metadata": {},
   "outputs": [],
   "source": [
    "thread = client.beta.threads.create(\n",
    "    messages=[\n",
    "        {\n",
    "            \"role\": \"user\",\n",
    "            \"content\": \"I want to know about the history of the house music.\",\n",
    "        }\n",
    "    ]\n",
    ")"
   ]
  },
  {
   "cell_type": "code",
   "execution_count": 3,
   "metadata": {},
   "outputs": [],
   "source": [
    "run = client.beta.threads.runs.create(\n",
    "    thread_id=thread.id,\n",
    "    assistant_id=assistant_id,\n",
    "    temperature=0.1\n",
    ")"
   ]
  },
  {
   "cell_type": "code",
   "execution_count": 68,
   "metadata": {},
   "outputs": [],
   "source": [
    "def get_run(run_id, thread_id):\n",
    "    return client.beta.threads.runs.retrieve(\n",
    "        run_id=run_id,\n",
    "        thread_id=thread_id,\n",
    "    )\n",
    "\n",
    "def send_message(thread_id, content):\n",
    "    return client.beta.threads.messages.create(\n",
    "        thread_id=thread_id, role=\"user\", content=content\n",
    "    )\n",
    "\n",
    "def get_messages(thread_id):\n",
    "    messages = client.beta.threads.messages.list(thread_id=thread_id)\n",
    "    messages = list(messages)\n",
    "    messages.reverse()\n",
    "    for message in messages:\n",
    "        print(f\"{message.role}: {message.content[0].text.value}\")\n",
    "\n",
    "def get_tool_outputs(run_id, thread_id):\n",
    "    run = get_run(run_id, thread_id)\n",
    "    outputs = []\n",
    "    for action in run.required_action.submit_tool_outputs.tool_calls:\n",
    "        action_id = action.id\n",
    "        function = action.function\n",
    "        print(f\"Calling function: {function.name} with arg {function.arguments}\")\n",
    "        outputs.append(\n",
    "            {\n",
    "                \"output\": functions_map[function.name](json.loads(function.arguments)),\n",
    "                \"tool_call_id\": action_id,\n",
    "            }\n",
    "        )\n",
    "    return outputs\n",
    "\n",
    "def submit_tool_outputs(run_id, thread_id):\n",
    "    outputs = get_tool_outputs(run_id, thread_id)\n",
    "    return client.beta.threads.runs.submit_tool_outputs(\n",
    "        run_id=run_id, thread_id=thread_id, tool_outputs=outputs\n",
    "    )"
   ]
  },
  {
   "cell_type": "code",
   "execution_count": 69,
   "metadata": {},
   "outputs": [
    {
     "name": "stdout",
     "output_type": "stream",
     "text": [
      "Calling function: save_to_file with arg {\"text\":\"# History of House Music\\n\\nHouse music is a genre of electronic dance music that originated in the early 1980s in Chicago, Illinois. It is characterized by a repetitive four-on-the-floor beat and a tempo typically ranging from 115 to 130 beats per minute. The genre emerged from the underground club culture of Chicago, particularly among Black and LGBTQ+ communities, and was heavily influenced by disco, funk, and soul music.\\n\\n## Origins\\nThe roots of house music can be traced back to the late 1970s, during a time when disco was at its peak. Clubs like the Warehouse and the Power Plant in Chicago became hotspots for DJs and music producers who sought to create a new sound that reflected the urban experience. Frankie Knuckles, often referred to as the \\\"Godfather of House Music,\\\" was a key figure in this scene, spinning records at the Warehouse and experimenting with mixing techniques and drum machines.\\n\\nThe term \\\"house music\\\" is believed to have originated from the Warehouse, where Knuckles and other DJs would play a mix of disco and electronic music. As disco began to decline in popularity due to over-commercialization and events like the Disco Demolition Night in 1979, DJs turned to creating their own tracks, leading to the birth of house music.\\n\\n## Key Developments in the 1980s\\nIn 1984, Jesse Saunders released \\\"On and On,\\\" which is often cited as one of the first house tracks. This marked a significant moment in the genre's history, as it inspired many young producers to experiment with house music. Other notable tracks from this era include Marshall Jefferson's \\\"Move Your Body\\\" and Lil Louis's \\\"French Kiss.\\\"\\n\\nAs house music gained traction in Chicago, it began to spread to other cities, including New York and Detroit. By the late 1980s, house music had become a global phenomenon, influencing pop music and leading to the emergence of various subgenres, including acid house and deep house.\\n\\n## The 1990s and Beyond\\nThe 1990s saw house music continue to evolve, with the rise of new artists and the establishment of record labels dedicated to the genre. The Chosen Few DJs, a collective formed in Chicago, played a significant role in promoting house music through events like the annual Chosen Few Picnic, which celebrates the genre's legacy.\\n\\nIn the 2000s, house music experienced a resurgence in popularity, particularly with the rise of electronic dance music (EDM). Artists like David Guetta and Calvin Harris brought house music back into the mainstream, blending it with pop elements and reaching new audiences.\\n\\n## Cultural Impact\\nHouse music has had a profound impact on popular culture, influencing various genres and artists worldwide. It has been incorporated into the works of major international artists such as Whitney Houston, Madonna, and Lady Gaga. The genre's roots in the Black and LGBTQ+ communities have also sparked discussions about representation and recognition within the music industry.\\n\\n## Conclusion\\nToday, house music remains a vital part of the global music landscape, with a rich history that reflects its origins in Chicago's underground scene. The genre continues to evolve, with new artists and subgenres emerging, ensuring that house music will remain a significant force in electronic dance music for years to come.\\n\\n## Sources\\n1. [House music - Wikipedia](https://en.wikipedia.org/wiki/House_music)\\n2. [A Timeline Of House Music: Key Moments, Artists & Tracks That Shaped The Foundational Dance Music Genre](https://www.grammy.com/news/house-music-timeline-important-artists-songs-moments)\\n3. [Chicago Legends Debate the Origins of House Music](https://southsideweekly.com/chicago-legends-debate-the-origins-of-house-music/)\\n4. [Where did house music come from? - California Learning Resource Network](https://www.clrn.org/where-did-house-music-come-from/)\"}\n"
     ]
    },
    {
     "data": {
      "text/plain": [
       "Run(id='run_oHFLwzjWZQ0lt5rpqeTQ4Tka', assistant_id='asst_yei8drdmPyp7k2jYkeLwqIIv', cancelled_at=None, completed_at=None, created_at=1735476130, expires_at=1735476730, failed_at=None, incomplete_details=None, instructions='\\n    You are a research expert.\\n    Your task is to use Wikipedia or DuckDuckGo to gather comprehensive and accurate information about the query provided. \\n    When you find a relevant website through DuckDuckGo, you must scrape the content from that website. Use this scraped content to thoroughly research and formulate a detailed answer to the question. \\n    Combine information from Wikipedia, DuckDuckGo searches, and any relevant websites you find. Ensure that the final answer is well-organized and detailed, and include citations with links (URLs) for all sources used.\\n    Your research should be saved to a .txt file, and the content should match the detailed findings provided. Make sure to include all sources and relevant information.\\n    The information from Wikipedia must be included.\\n    Ensure that the final .txt file contains detailed information, all relevant sources, and citations.\\n', last_error=None, max_completion_tokens=None, max_prompt_tokens=None, metadata={}, model='gpt-4o-mini', object='thread.run', parallel_tool_calls=True, required_action=None, response_format='auto', started_at=1735476160, status='queued', thread_id='thread_7XqLP88U0P9AhkRI0nMsi98R', tool_choice='auto', tools=[FunctionTool(function=FunctionDefinition(name='search_by_duckduckgo', description='Given a query, returns a URL of relevant websites from DuckDuckGo.', parameters={'type': 'object', 'properties': {'query': {'type': 'string', 'description': 'Query to search for'}}, 'required': ['query']}, strict=False), type='function'), FunctionTool(function=FunctionDefinition(name='search_by_wikipedia', description='Given a query, returns the summary of the query from Wikipedia.', parameters={'type': 'object', 'properties': {'query': {'type': 'string', 'description': 'Query to search for'}}, 'required': ['query']}, strict=False), type='function'), FunctionTool(function=FunctionDefinition(name='scrape_web_page', description='Given a URL, returns the content of the web page.', parameters={'type': 'object', 'properties': {'url': {'type': 'string', 'description': 'URL of the web page'}}, 'required': ['url']}, strict=False), type='function'), FunctionTool(function=FunctionDefinition(name='save_to_file', description='Given a text content, saves it to a file.', parameters={'type': 'object', 'properties': {'text': {'type': 'string', 'description': 'Text content to save'}}, 'required': ['text']}, strict=False), type='function')], truncation_strategy=TruncationStrategy(type='auto', last_messages=None), usage=None, temperature=0.1, top_p=1.0, tool_resources={})"
      ]
     },
     "execution_count": 69,
     "metadata": {},
     "output_type": "execute_result"
    }
   ],
   "source": [
    "submit_tool_outputs(run.id, thread.id)"
   ]
  },
  {
   "cell_type": "code",
   "execution_count": 65,
   "metadata": {},
   "outputs": [
    {
     "data": {
      "text/plain": [
       "'requires_action'"
      ]
     },
     "execution_count": 65,
     "metadata": {},
     "output_type": "execute_result"
    }
   ],
   "source": [
    "get_run(run.id, thread.id).status"
   ]
  },
  {
   "cell_type": "code",
   "execution_count": 51,
   "metadata": {},
   "outputs": [
    {
     "name": "stdout",
     "output_type": "stream",
     "text": [
      "user: I want to know about the history of the house music.\n"
     ]
    }
   ],
   "source": [
    "get_messages(thread.id)"
   ]
  }
 ],
 "metadata": {
  "kernelspec": {
   "display_name": ".venv",
   "language": "python",
   "name": "python3"
  },
  "language_info": {
   "codemirror_mode": {
    "name": "ipython",
    "version": 3
   },
   "file_extension": ".py",
   "mimetype": "text/x-python",
   "name": "python",
   "nbconvert_exporter": "python",
   "pygments_lexer": "ipython3",
   "version": "3.11.11"
  }
 },
 "nbformat": 4,
 "nbformat_minor": 2
}
