{
 "cells": [
  {
   "cell_type": "code",
   "execution_count": 12,
   "metadata": {},
   "outputs": [
    {
     "name": "stdout",
     "output_type": "stream",
     "text": [
      "asst_yei8drdmPyp7k2jYkeLwqIIv\n"
     ]
    }
   ],
   "source": [
    "from langchain.tools import DuckDuckGoSearchResults, WikipediaQueryRun\n",
    "from langchain.utilities import WikipediaAPIWrapper\n",
    "from langchain.document_loaders import WebBaseLoader\n",
    "from pathlib import Path\n",
    "from openai import OpenAI\n",
    "import json\n",
    "import os\n",
    "\n",
    "def search_by_duckduckgo(inputs):\n",
    "    query = inputs[\"query\"]\n",
    "    ddg = DuckDuckGoSearchResults()\n",
    "    return ddg.run(query)\n",
    "\n",
    "def search_by_wikipedia(inputs):\n",
    "    query = inputs[\"query\"]\n",
    "    wiki = WikipediaQueryRun(api_wrapper=WikipediaAPIWrapper())\n",
    "    return wiki.run(query)\n",
    "\n",
    "def scrape_web_page(inputs):\n",
    "    url = inputs[\"url\"]\n",
    "    loader = WebBaseLoader([url])\n",
    "    docs = loader.load()\n",
    "    text = \"\\n\\n\".join([doc.page_content for doc in docs])\n",
    "    return text\n",
    "\n",
    "def save_to_file(inputs):\n",
    "    output_dir = \"./output\"\n",
    "    Path(output_dir).mkdir(parents=True, exist_ok=True)\n",
    "    text = inputs[\"text\"]\n",
    "    with open(f\"{output_dir}/output.txt\", \"w\") as file:\n",
    "        file.write(text)\n",
    "    return f\"Text saved to {output_dir}/output.txt\"\n",
    "\n",
    "functions_map = {\n",
    "    \"search_by_duckduckgo\": search_by_duckduckgo,\n",
    "    \"search_by_wikipedia\": search_by_wikipedia,\n",
    "    \"scrape_web_page\": scrape_web_page,\n",
    "    \"save_to_file\": save_to_file,\n",
    "}\n",
    "\n",
    "functions = [\n",
    "    {\n",
    "        \"type\": \"function\",\n",
    "        \"function\": {\n",
    "            \"name\": \"search_by_duckduckgo\",\n",
    "            \"description\": \"Given a query, returns a URL of relevant websites from DuckDuckGo.\",\n",
    "            \"parameters\": {\n",
    "                \"type\": \"object\",\n",
    "                \"properties\": {\n",
    "                    \"query\": {\n",
    "                        \"type\": \"string\",\n",
    "                        \"description\": \"Query to search for\",\n",
    "                    }\n",
    "                },\n",
    "                \"required\": [\"query\"],\n",
    "            },\n",
    "        },\n",
    "    },\n",
    "    {\n",
    "        \"type\": \"function\",\n",
    "        \"function\": {\n",
    "            \"name\": \"search_by_wikipedia\",\n",
    "            \"description\": \"Given a query, returns the summary of the query from Wikipedia.\",\n",
    "            \"parameters\": {\n",
    "                \"type\": \"object\",\n",
    "                \"properties\": {\n",
    "                    \"query\": {\n",
    "                        \"type\": \"string\",\n",
    "                        \"description\": \"Query to search for\",\n",
    "                    }\n",
    "                },\n",
    "                \"required\": [\"query\"],\n",
    "            },\n",
    "        },\n",
    "    },\n",
    "    {\n",
    "        \"type\": \"function\",\n",
    "        \"function\": {\n",
    "            \"name\": \"scrape_web_page\",\n",
    "            \"description\": \"Given a URL, returns the content of the web page.\",\n",
    "            \"parameters\": {\n",
    "                \"type\": \"object\",\n",
    "                \"properties\": {\n",
    "                    \"url\": {\n",
    "                        \"type\": \"string\",\n",
    "                        \"description\": \"URL of the web page\",\n",
    "                    },\n",
    "                },\n",
    "                \"required\": [\"url\"],\n",
    "            },\n",
    "        },\n",
    "    },\n",
    "    {\n",
    "        \"type\": \"function\",\n",
    "        \"function\": {\n",
    "            \"name\": \"save_to_file\",\n",
    "            \"description\": \"Given a text content, saves it to a file.\",\n",
    "            \"parameters\": {\n",
    "                \"type\": \"object\",\n",
    "                \"properties\": {\n",
    "                    \"text\": {\n",
    "                        \"type\": \"string\",\n",
    "                        \"description\": \"Text content to save\",\n",
    "                    },\n",
    "                },\n",
    "                \"required\": [\"text\"],\n",
    "            },\n",
    "        },\n",
    "    },\n",
    "]\n",
    "\n",
    "instructions = \"\"\"\n",
    "    You are a research expert.\n",
    "    Your task is to use Wikipedia or DuckDuckGo to gather comprehensive and accurate information about the query provided. \n",
    "    When you find a relevant website through DuckDuckGo, you must scrape the content from that website. Use this scraped content to thoroughly research and formulate a detailed answer to the question. \n",
    "    Combine information from Wikipedia, DuckDuckGo searches, and any relevant websites you find. Ensure that the final answer is well-organized and detailed, and include citations with links (URLs) for all sources used.\n",
    "    Your research should be saved to a .txt file, and the content should match the detailed findings provided. Make sure to include all sources and relevant information.\n",
    "    The information from Wikipedia must be included.\n",
    "    Ensure that the final .txt file contains detailed information, all relevant sources, and citations.\n",
    "\"\"\"\n",
    "\n",
    "client = OpenAI()\n",
    "\n",
    "# assistant = client.beta.assistants.create(\n",
    "#     name=\"Research Expert\",\n",
    "#     instructions=instructions,\n",
    "#     model=\"gpt-4o-mini\",\n",
    "#     tools=functions,\n",
    "# )\n",
    "\n",
    "assistant_id = os.environ.get(\"OPENAI_ASSISTANT_ID\")\n",
    "print(assistant_id)"
   ]
  },
  {
   "cell_type": "code",
   "execution_count": 24,
   "metadata": {},
   "outputs": [
    {
     "name": "stdout",
     "output_type": "stream",
     "text": [
      "on_tool_call_done > run status: requires_action\n",
      "on_end > calling required action: search_by_wikipedia with arg {\"query\": \"Path of Exile\"}\n",
      "on_end > calling required action: search_by_duckduckgo with arg {\"query\": \"Path of Exile game overview\"}\n"
     ]
    },
    {
     "name": "stderr",
     "output_type": "stream",
     "text": [
      "/Users/demian/Projects/my-assistant/.venv/lib/python3.11/site-packages/langchain_community/utilities/duckduckgo_search.py:64: UserWarning: 'api' backend is deprecated, using backend='auto'\n",
      "  ddgs_gen = ddgs.text(\n"
     ]
    },
    {
     "name": "stdout",
     "output_type": "stream",
     "text": [
      "on_tool_call_done > run status: requires_action\n",
      "on_end > calling required action: scrape_web_page with arg {\"url\": \"https://www.pathofexile.com/game\"}\n",
      "on_end > calling required action: scrape_web_page with arg {\"url\": \"https://www.poewiki.net/wiki/Path_of_Exile\"}\n",
      "on_end > calling required action: scrape_web_page with arg {\"url\": \"https://www.exitlag.com/blog/intro-to-path-of-exile-game-guide/\"}\n",
      "on_tool_call_done > run status: requires_action\n",
      "on_end > calling required action: save_to_file with arg {\"text\":\"# Path of Exile Game Overview\\n\\n## General Information\\nPath of Exile is a free-to-play action role-playing video game developed and published by Grinding Gear Games. It was officially released on October 23, 2013, after a successful open beta phase. The game is set in a dark fantasy world called Wraeclast, where players take on the role of exiles who must fight their way back to the island nation of Oriath, battling ancient gods and various evils along the way. The game is available on multiple platforms, including Microsoft Windows, Xbox One, and PlayStation 4.\\n\\n## Gameplay Mechanics\\n### Character Classes\\nPlayers can choose from seven character classes:\\n- **Marauder**\\n- **Duelist**\\n- **Ranger**\\n- **Shadow**\\n- **Witch**\\n- **Templar**\\n- **Scion**\\n\\n### Skill Gem System\\nOne of the unique features of Path of Exile is its skill gem system. Skills are represented as items (gems) that can be socketed into equipment. Players can modify these skills using support gems, allowing for a high degree of customization in gameplay. For example, a Fireball skill can be augmented to chain between enemies or split into multiple projectiles.\\n\\n### Passive Skill Tree\\nThe game features a vast passive skill tree that all character classes share. Players can start at different locations on the tree based on their chosen class and can build complex combinations of skills by traveling across the tree.\\n\\n### Item Economy\\nPath of Exile has a strong online item economy, where items can have random properties. The game does not use traditional currency; instead, it employs various orbs that can modify items. This system encourages trading and adds depth to the gameplay.\\n\\n### Leagues and Events\\nThe game features various leagues and events that modify gameplay rules and provide fresh challenges. These leagues can last from a few hours to several months and often include unique mechanics that change how players interact with the game world.\\n\\n## Expansions\\nSince its release, Path of Exile has received numerous expansions, each adding new content, mechanics, and challenges. Some notable expansions include:\\n- **The Fall of Oriath** (2017)\\n- **Heist** (2020)\\n- **Crucible** (2023)\\n- **Settlers of Kalguur** (2024)\\n\\n## Path of Exile 2\\nA sequel, Path of Exile 2, was announced and is set to release in early access on December 6, 2024. Initially intended as a large update for the original game, it has evolved into a separate title.\\n\\n## Conclusion\\nPath of Exile is known for its deep character customization, engaging gameplay mechanics, and a rich, dark fantasy world. It has garnered a dedicated player base and continues to evolve with regular updates and expansions.\\n\\n## Sources\\n- [Path of Exile - Wikipedia](https://en.wikipedia.org/wiki/Path_of_Exile)\\n- [Path of Exile Official Site](https://www.pathofexile.com/game)\\n- [Path of Exile Wiki](https://www.poewiki.net/wiki/Path_of_Exile)\\n- [Intro to Path of Exile - ExitLag](https://www.exitlag.com/blog/intro-to-path-of-exile-game-guide/)\"}\n",
      "on_tool_call_done > run status: completed\n"
     ]
    },
    {
     "data": {
      "text/plain": [
       "['user: I want to know about the path of exile game.',\n",
       " 'assistant: I have gathered comprehensive information about the game \"Path of Exile.\" Here’s a detailed overview:\\n\\n---\\n\\n# Path of Exile Game Overview\\n\\n## General Information\\nPath of Exile is a free-to-play action role-playing video game developed and published by Grinding Gear Games. It was officially released on October 23, 2013, after a successful open beta phase. The game is set in a dark fantasy world called Wraeclast, where players take on the role of exiles who must fight their way back to the island nation of Oriath, battling ancient gods and various evils along the way. The game is available on multiple platforms, including Microsoft Windows, Xbox One, and PlayStation 4.\\n\\n## Gameplay Mechanics\\n### Character Classes\\nPlayers can choose from seven character classes:\\n- **Marauder**\\n- **Duelist**\\n- **Ranger**\\n- **Shadow**\\n- **Witch**\\n- **Templar**\\n- **Scion**\\n\\n### Skill Gem System\\nOne of the unique features of Path of Exile is its skill gem system. Skills are represented as items (gems) that can be socketed into equipment. Players can modify these skills using support gems, allowing for a high degree of customization in gameplay. For example, a Fireball skill can be augmented to chain between enemies or split into multiple projectiles.\\n\\n### Passive Skill Tree\\nThe game features a vast passive skill tree that all character classes share. Players can start at different locations on the tree based on their chosen class and can build complex combinations of skills by traveling across the tree.\\n\\n### Item Economy\\nPath of Exile has a strong online item economy, where items can have random properties. The game does not use traditional currency; instead, it employs various orbs that can modify items. This system encourages trading and adds depth to the gameplay.\\n\\n### Leagues and Events\\nThe game features various leagues and events that modify gameplay rules and provide fresh challenges. These leagues can last from a few hours to several months and often include unique mechanics that change how players interact with the game world.\\n\\n## Expansions\\nSince its release, Path of Exile has received numerous expansions, each adding new content, mechanics, and challenges. Some notable expansions include:\\n- **The Fall of Oriath** (2017)\\n- **Heist** (2020)\\n- **Crucible** (2023)\\n- **Settlers of Kalguur** (2024)\\n\\n## Path of Exile 2\\nA sequel, Path of Exile 2, was announced and is set to release in early access on December 6, 2024. Initially intended as a large update for the original game, it has evolved into a separate title.\\n\\n## Conclusion\\nPath of Exile is known for its deep character customization, engaging gameplay mechanics, and a rich, dark fantasy world. It has garnered a dedicated player base and continues to evolve with regular updates and expansions.\\n\\n## Sources\\n- [Path of Exile - Wikipedia](https://en.wikipedia.org/wiki/Path_of_Exile)\\n- [Path of Exile Official Site](https://www.pathofexile.com/game)\\n- [Path of Exile Wiki](https://www.poewiki.net/wiki/Path_of_Exile)\\n- [Intro to Path of Exile - ExitLag](https://www.exitlag.com/blog/intro-to-path-of-exile-game-guide/)\\n\\n---\\n\\nThis information has been saved to a text file. If you need further details or specific aspects of the game, feel free to ask!']"
      ]
     },
     "execution_count": 24,
     "metadata": {},
     "output_type": "execute_result"
    }
   ],
   "source": [
    "from typing_extensions import override\n",
    "from openai import AssistantEventHandler\n",
    "\n",
    "class EventHandler(AssistantEventHandler):\n",
    "    def __init__(self, client):\n",
    "       super().__init__()\n",
    "       self.client = client\n",
    "    \n",
    "    @override\n",
    "    def on_end(self):\n",
    "        run = self.current_run\n",
    "        print(f\"on_tool_call_done > run status: {run.status}\")\n",
    "        if run.status != \"requires_action\": return\n",
    "        required_actions = run.required_action.submit_tool_outputs.tool_calls\n",
    "        outputs = []\n",
    "        for action in required_actions:\n",
    "            action_id = action.id\n",
    "            function = action.function\n",
    "            print(f\"on_end > calling required action: {function.name} with arg {function.arguments}\")\n",
    "            outputs.append(\n",
    "                {\n",
    "                    \"output\": functions_map[function.name](json.loads(function.arguments)),\n",
    "                    \"tool_call_id\": action_id,\n",
    "                }\n",
    "            )\n",
    "        with self.client.beta.threads.runs.submit_tool_outputs_stream(\n",
    "            run_id=run.id, thread_id=run.thread_id, tool_outputs=outputs, event_handler=EventHandler(client=self.client)\n",
    "        ) as stream:\n",
    "            stream.until_done()\n",
    "\n",
    "def event_handler_factory(client):\n",
    "    return EventHandler(client=client)\n",
    "\n",
    "class Assistant:\n",
    "    def __init__(self, assistant_id, event_handler_factory):\n",
    "       self.client = OpenAI()\n",
    "       self.assistant_id = assistant_id\n",
    "       self.event_handler_factory = event_handler_factory\n",
    "       thread = self.client.beta.threads.create()\n",
    "       self.thread_id = thread.id\n",
    "\n",
    "    def query(self, content):\n",
    "        with client.beta.threads.runs.stream(\n",
    "            thread_id=self.thread_id,\n",
    "            assistant_id=self.assistant_id,\n",
    "            event_handler=self.event_handler_factory(client=self.client),\n",
    "            additional_messages=[{\n",
    "                \"role\": \"user\",\n",
    "                \"content\": content\n",
    "            }],    \n",
    "        ) as stream:\n",
    "            stream.until_done()\n",
    "        return self.thread_id\n",
    "\n",
    "    def get_messages(self, thread_id):\n",
    "        messages = client.beta.threads.messages.list(thread_id=thread_id)\n",
    "        messages = list(messages)\n",
    "        messages.reverse()\n",
    "        result = []\n",
    "        for message in messages:\n",
    "            result.append(f\"{message.role}: {message.content[0].text.value}\")\n",
    "        return result\n",
    "\n",
    "assistant = Assistant(assistant_id, event_handler_factory)\n",
    "\n",
    "thread_id = assistant.query(\"I want to know about the path of exile game.\")\n",
    "\n",
    "assistant.get_messages(thread_id)"
   ]
  },
  {
   "cell_type": "code",
   "execution_count": 25,
   "metadata": {},
   "outputs": [
    {
     "name": "stdout",
     "output_type": "stream",
     "text": [
      "on_tool_call_done > run status: requires_action\n",
      "on_end > calling required action: search_by_wikipedia with arg {\"query\": \"House of Cards (American TV series)\"}\n",
      "on_end > calling required action: search_by_duckduckgo with arg {\"query\": \"House of Cards TV show overview\"}\n"
     ]
    },
    {
     "name": "stderr",
     "output_type": "stream",
     "text": [
      "/Users/demian/Projects/my-assistant/.venv/lib/python3.11/site-packages/langchain_community/utilities/duckduckgo_search.py:64: UserWarning: 'api' backend is deprecated, using backend='auto'\n",
      "  ddgs_gen = ddgs.text(\n"
     ]
    },
    {
     "name": "stdout",
     "output_type": "stream",
     "text": [
      "on_tool_call_done > run status: requires_action\n",
      "on_end > calling required action: scrape_web_page with arg {\"url\": \"https://en.wikipedia.org/wiki/House_of_Cards_(American_TV_series)\"}\n",
      "on_end > calling required action: scrape_web_page with arg {\"url\": \"https://epguides.com/HouseofCards_2013/\"}\n",
      "on_tool_call_done > run status: requires_action\n",
      "on_end > calling required action: save_to_file with arg {\"text\":\"# House of Cards TV Show Overview\\n\\n## General Information\\n**House of Cards** is an American political thriller television series created by Beau Willimon. It is based on the 1989 novel of the same title by Michael Dobbs and is an adaptation of the 1990 British series of the same name. The first season, consisting of 13 episodes, was released on February 1, 2013, on Netflix, making it the first TV series produced by a studio for the streaming service.\\n\\n## Plot Summary\\nSet in Washington, D.C., the series follows Frank Underwood (played by Kevin Spacey), an amoral politician and Democrat from South Carolina's 5th congressional district, and his equally ambitious wife, Claire Underwood (played by Robin Wright). After being passed over for the position of Secretary of State, Frank initiates an elaborate plan to attain power, aided by Claire. The series explores themes of manipulation, betrayal, and the ruthless pursuit of power.\\n\\n## Main Characters\\n- **Frank Underwood** (Kevin Spacey): The protagonist, a cunning politician who rises through the ranks of power.\\n- **Claire Underwood** (Robin Wright): Frank's ambitious wife who plays a significant role in his schemes.\\n- **Doug Stamper** (Michael Kelly): Frank's loyal chief of staff.\\n- **Zoe Barnes** (Kate Mara): A reporter who becomes romantically involved with Frank.\\n- **Peter Russo** (Corey Stoll): A congressman with a troubled past who becomes a pawn in Frank's plans.\\n\\n## Production and Release\\nThe series was produced by Beau Willimon, David Fincher, and others, and was filmed primarily in Baltimore, Maryland. It consists of six seasons with a total of 73 episodes, concluding on November 2, 2018. The show received critical acclaim and numerous awards, including 33 Primetime Emmy Award nominations.\\n\\n## Reception\\nHouse of Cards was praised for its writing, direction, and performances, particularly those of Spacey and Wright. It was the first original online-only streaming television series to receive major Emmy nominations. However, following allegations of sexual misconduct against Spacey in 2017, Netflix terminated its relationship with him, and the sixth season was produced without his involvement.\\n\\n## Accolades\\n- **Emmy Awards**: 33 nominations, including Outstanding Drama Series.\\n- **Golden Globe Awards**: 8 nominations, with Robin Wright winning for Best Actress in 2014 and Spacey winning for Best Actor in 2015.\\n\\n## Conclusion\\nHouse of Cards is recognized for its dark portrayal of political ambition and the complexities of power dynamics in Washington, D.C. Despite its controversial ending, it remains a significant work in the landscape of modern television.\\n\\n## Sources\\n- [House of Cards - Wikipedia](https://en.wikipedia.org/wiki/House_of_Cards_(American_TV_series))\\n- [House of Cards Episode Guide](https://epguides.com/HouseofCards_2013/)\"}\n",
      "on_tool_call_done > run status: completed\n"
     ]
    },
    {
     "data": {
      "text/plain": [
       "['user: I want to know about the path of exile game.',\n",
       " 'assistant: I have gathered comprehensive information about the game \"Path of Exile.\" Here’s a detailed overview:\\n\\n---\\n\\n# Path of Exile Game Overview\\n\\n## General Information\\nPath of Exile is a free-to-play action role-playing video game developed and published by Grinding Gear Games. It was officially released on October 23, 2013, after a successful open beta phase. The game is set in a dark fantasy world called Wraeclast, where players take on the role of exiles who must fight their way back to the island nation of Oriath, battling ancient gods and various evils along the way. The game is available on multiple platforms, including Microsoft Windows, Xbox One, and PlayStation 4.\\n\\n## Gameplay Mechanics\\n### Character Classes\\nPlayers can choose from seven character classes:\\n- **Marauder**\\n- **Duelist**\\n- **Ranger**\\n- **Shadow**\\n- **Witch**\\n- **Templar**\\n- **Scion**\\n\\n### Skill Gem System\\nOne of the unique features of Path of Exile is its skill gem system. Skills are represented as items (gems) that can be socketed into equipment. Players can modify these skills using support gems, allowing for a high degree of customization in gameplay. For example, a Fireball skill can be augmented to chain between enemies or split into multiple projectiles.\\n\\n### Passive Skill Tree\\nThe game features a vast passive skill tree that all character classes share. Players can start at different locations on the tree based on their chosen class and can build complex combinations of skills by traveling across the tree.\\n\\n### Item Economy\\nPath of Exile has a strong online item economy, where items can have random properties. The game does not use traditional currency; instead, it employs various orbs that can modify items. This system encourages trading and adds depth to the gameplay.\\n\\n### Leagues and Events\\nThe game features various leagues and events that modify gameplay rules and provide fresh challenges. These leagues can last from a few hours to several months and often include unique mechanics that change how players interact with the game world.\\n\\n## Expansions\\nSince its release, Path of Exile has received numerous expansions, each adding new content, mechanics, and challenges. Some notable expansions include:\\n- **The Fall of Oriath** (2017)\\n- **Heist** (2020)\\n- **Crucible** (2023)\\n- **Settlers of Kalguur** (2024)\\n\\n## Path of Exile 2\\nA sequel, Path of Exile 2, was announced and is set to release in early access on December 6, 2024. Initially intended as a large update for the original game, it has evolved into a separate title.\\n\\n## Conclusion\\nPath of Exile is known for its deep character customization, engaging gameplay mechanics, and a rich, dark fantasy world. It has garnered a dedicated player base and continues to evolve with regular updates and expansions.\\n\\n## Sources\\n- [Path of Exile - Wikipedia](https://en.wikipedia.org/wiki/Path_of_Exile)\\n- [Path of Exile Official Site](https://www.pathofexile.com/game)\\n- [Path of Exile Wiki](https://www.poewiki.net/wiki/Path_of_Exile)\\n- [Intro to Path of Exile - ExitLag](https://www.exitlag.com/blog/intro-to-path-of-exile-game-guide/)\\n\\n---\\n\\nThis information has been saved to a text file. If you need further details or specific aspects of the game, feel free to ask!',\n",
       " 'user: I want to know about the house of cards tv show.',\n",
       " 'assistant: I have compiled detailed information about the TV show \"House of Cards.\" Here’s an overview:\\n\\n---\\n\\n# House of Cards TV Show Overview\\n\\n## General Information\\n**House of Cards** is an American political thriller television series created by Beau Willimon. It is based on the 1989 novel of the same title by Michael Dobbs and is an adaptation of the 1990 British series of the same name. The first season, consisting of 13 episodes, was released on February 1, 2013, on Netflix, making it the first TV series produced by a studio for the streaming service.\\n\\n## Plot Summary\\nSet in Washington, D.C., the series follows Frank Underwood (played by Kevin Spacey), an amoral politician and Democrat from South Carolina\\'s 5th congressional district, and his equally ambitious wife, Claire Underwood (played by Robin Wright). After being passed over for the position of Secretary of State, Frank initiates an elaborate plan to attain power, aided by Claire. The series explores themes of manipulation, betrayal, and the ruthless pursuit of power.\\n\\n## Main Characters\\n- **Frank Underwood** (Kevin Spacey): The protagonist, a cunning politician who rises through the ranks of power.\\n- **Claire Underwood** (Robin Wright): Frank\\'s ambitious wife who plays a significant role in his schemes.\\n- **Doug Stamper** (Michael Kelly): Frank\\'s loyal chief of staff.\\n- **Zoe Barnes** (Kate Mara): A reporter who becomes romantically involved with Frank.\\n- **Peter Russo** (Corey Stoll): A congressman with a troubled past who becomes a pawn in Frank\\'s plans.\\n\\n## Production and Release\\nThe series was produced by Beau Willimon, David Fincher, and others, and was filmed primarily in Baltimore, Maryland. It consists of six seasons with a total of 73 episodes, concluding on November 2, 2018. The show received critical acclaim and numerous awards, including 33 Primetime Emmy Award nominations.\\n\\n## Reception\\nHouse of Cards was praised for its writing, direction, and performances, particularly those of Spacey and Wright. It was the first original online-only streaming television series to receive major Emmy nominations. However, following allegations of sexual misconduct against Spacey in 2017, Netflix terminated its relationship with him, and the sixth season was produced without his involvement.\\n\\n## Accolades\\n- **Emmy Awards**: 33 nominations, including Outstanding Drama Series.\\n- **Golden Globe Awards**: 8 nominations, with Robin Wright winning for Best Actress in 2014 and Spacey winning for Best Actor in 2015.\\n\\n## Conclusion\\nHouse of Cards is recognized for its dark portrayal of political ambition and the complexities of power dynamics in Washington, D.C. Despite its controversial ending, it remains a significant work in the landscape of modern television.\\n\\n## Sources\\n- [House of Cards - Wikipedia](https://en.wikipedia.org/wiki/House_of_Cards_(American_TV_series))\\n- [House of Cards Episode Guide](https://epguides.com/HouseofCards_2013/)\\n\\n---\\n\\nThis information has been saved to a text file. If you have any further questions or need more specific details, feel free to ask!']"
      ]
     },
     "execution_count": 25,
     "metadata": {},
     "output_type": "execute_result"
    }
   ],
   "source": [
    "thread_id = assistant.query(\"I want to know about the house of cards tv show.\")\n",
    "\n",
    "assistant.get_messages(thread_id)"
   ]
  }
 ],
 "metadata": {
  "kernelspec": {
   "display_name": ".venv",
   "language": "python",
   "name": "python3"
  },
  "language_info": {
   "codemirror_mode": {
    "name": "ipython",
    "version": 3
   },
   "file_extension": ".py",
   "mimetype": "text/x-python",
   "name": "python",
   "nbconvert_exporter": "python",
   "pygments_lexer": "ipython3",
   "version": "3.11.11"
  }
 },
 "nbformat": 4,
 "nbformat_minor": 2
}
